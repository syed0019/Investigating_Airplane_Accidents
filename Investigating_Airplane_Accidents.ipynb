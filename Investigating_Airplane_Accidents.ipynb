{
 "cells": [
  {
   "cell_type": "markdown",
   "metadata": {},
   "source": [
    "# Investigating_Airplane_Accidents"
   ]
  },
  {
   "cell_type": "markdown",
   "metadata": {},
   "source": [
    "In this project, we worked with a dataset of airplane accident statistics to analyze patterns and look for any common threads. The dataset we have worked with contains 77,282 aviation accidents that occurred in the U.S., and the metadata associated with them. The data in our `AviationData.txt` file comes from the [National Transportation Safety Board (NTSB)](http://www.ntsb.gov/Pages/default.aspx) and is available for download [here](http://catalog.data.gov/dataset/aviation-data-and-documentation-from-the-ntsb-accident-database-system-05748/resource/4b1e95fe-91a7-4112-85fa-424d2672a906). The preview of file is below:\n",
    "\n",
    "Event Id | Investigation Type | Accident Number | Event Date | Location | Country | Latitude | Longitude | Airport Code | Airport Name | Injury Severity | Aircraft Damage | Aircraft Category | Registration Number | Make | Model | Amateur Built | Number of Engines | Engine Type | FAR Description | Schedule | Purpose of Flight | Air Carrier | Total Fatal Injuries | Total Serious Injuries | Total Minor Injuries | Total Uninjured | Weather Condition | Broad Phase of Flight | Report Status | Publication Date |\n",
    "20150908X74637 | Accident | CEN15LA402 | 09/08/2015 | Freeport, IL | United States | 42.246111 | -89.581945 | KFEP | albertus Airport | Non-Fatal | Substantial | Unknown | N24TL | CLARKE REGINALD W | DRAGONFLY MK |  |  |  | Part 91: General Aviation |  | Personal |  |  | 1 |  |  | VMC | TAKEOFF | Preliminary | 09/09/2015 | \n",
    "\n",
    "As we can see, the file isn't in CSV format; it separates the fields with a pipe character (`|`) instead. Below is a description of some columns:\n",
    "\n",
    "- `Event Id` - The unique id for the incident\n",
    "- `Investigation Type` - The type of investigation the NTSB conducted\n",
    "- `Event Date` - The date of the accident\n",
    "- `Location` - Where the accident occurred\n",
    "- `Country` - The country where the accident occurred\n",
    "- `Latitude` - The latitude where the accident occurred\n",
    "- `Longitude` - The longitude where the accident occurred\n",
    "- `Injury Severity` - The severity of any injuries\n",
    "- `Aircraft Damage` - The extent of the damage to the aircraft\n",
    "- `Aircraft Category` - The type of aircraft\n",
    "- `Make` - The make of the aircraft\n",
    "- `Model` - The model of the aircraft\n",
    "- `Number of Engines` - The number of engines on the plane\n",
    "- `Air Carrier` - The carrier operating the aircraft\n",
    "- `Total Fatal Injuries` - The number of fatal injuries\n",
    "- `Total Serious Injuries` - The number of serious injuries\n",
    "- `Total Minor Injuries` - The number of minor injuries\n",
    "- `Total Uninjured` - The number of people who did not sustain injuries\n",
    "- `Broad Phase of Flight` - The phase of flight during which the accident occurred"
   ]
  },
  {
   "cell_type": "code",
   "execution_count": 1,
   "metadata": {},
   "outputs": [
    {
     "data": {
      "text/plain": [
       "['20150908X74637',\n",
       " 'Accident',\n",
       " 'CEN15LA402',\n",
       " '09/08/2015',\n",
       " 'Freeport, IL',\n",
       " 'United States',\n",
       " '42.246111',\n",
       " '-89.581945',\n",
       " 'KFEP',\n",
       " 'albertus Airport',\n",
       " 'Non-Fatal',\n",
       " 'Substantial',\n",
       " 'Unknown',\n",
       " 'N24TL',\n",
       " 'CLARKE REGINALD W',\n",
       " 'DRAGONFLY MK',\n",
       " '',\n",
       " '',\n",
       " '',\n",
       " 'Part 91: General Aviation',\n",
       " '',\n",
       " 'Personal',\n",
       " '',\n",
       " '',\n",
       " '1',\n",
       " '',\n",
       " '',\n",
       " 'VMC',\n",
       " 'TAKEOFF',\n",
       " 'Preliminary',\n",
       " '09/09/2015',\n",
       " '']"
      ]
     },
     "execution_count": 1,
     "metadata": {},
     "output_type": "execute_result"
    }
   ],
   "source": [
    "# opening AviationData.txt file\n",
    "\n",
    "aviation_list = []\n",
    "with open('AviationData.txt', 'r') as file:\n",
    "    aviation_data = file.readlines()\n",
    "    for line in aviation_data:\n",
    "        aviation_list.append(line.strip('\\n').split(' | '))\n",
    "aviation_list[1]"
   ]
  },
  {
   "cell_type": "code",
   "execution_count": 2,
   "metadata": {},
   "outputs": [
    {
     "data": {
      "text/plain": [
       "[['20001218X45447',\n",
       "  'Accident',\n",
       "  'LAX94LA336',\n",
       "  '07/19/1962',\n",
       "  'BRIDGEPORT, CA',\n",
       "  'United States',\n",
       "  '',\n",
       "  '',\n",
       "  '',\n",
       "  '',\n",
       "  'Fatal(4)',\n",
       "  'Destroyed',\n",
       "  '',\n",
       "  'N5069P',\n",
       "  'PIPER',\n",
       "  'PA24-180',\n",
       "  'No',\n",
       "  '1',\n",
       "  'Reciprocating',\n",
       "  '',\n",
       "  '',\n",
       "  'Personal',\n",
       "  '',\n",
       "  '4',\n",
       "  '0',\n",
       "  '0',\n",
       "  '0',\n",
       "  'UNK',\n",
       "  'UNKNOWN',\n",
       "  'Probable Cause',\n",
       "  '09/19/1996',\n",
       "  '']]"
      ]
     },
     "execution_count": 2,
     "metadata": {},
     "output_type": "execute_result"
    }
   ],
   "source": [
    "# performing search for accident number 'LAX94LA336'\n",
    "def code_search(code):\n",
    "    lax_code = []\n",
    "    for row in aviation_list:\n",
    "        for item in row:\n",
    "            if item == code:\n",
    "                lax_code.append(row)\n",
    "    return lax_code\n",
    "\n",
    "lax_code = code_search('LAX94LA336')\n",
    "        \n",
    "lax_code"
   ]
  },
  {
   "cell_type": "markdown",
   "metadata": {},
   "source": [
    "Above algorithm took quadratic time (O(n^2)), because it has to loop through each row first and then each item in that row."
   ]
  },
  {
   "cell_type": "code",
   "execution_count": 3,
   "metadata": {},
   "outputs": [
    {
     "data": {
      "text/plain": [
       "[['20001218X45447',\n",
       "  'Accident',\n",
       "  'LAX94LA336',\n",
       "  '07/19/1962',\n",
       "  'BRIDGEPORT, CA',\n",
       "  'United States',\n",
       "  '',\n",
       "  '',\n",
       "  '',\n",
       "  '',\n",
       "  'Fatal(4)',\n",
       "  'Destroyed',\n",
       "  '',\n",
       "  'N5069P',\n",
       "  'PIPER',\n",
       "  'PA24-180',\n",
       "  'No',\n",
       "  '1',\n",
       "  'Reciprocating',\n",
       "  '',\n",
       "  '',\n",
       "  'Personal',\n",
       "  '',\n",
       "  '4',\n",
       "  '0',\n",
       "  '0',\n",
       "  '0',\n",
       "  'UNK',\n",
       "  'UNKNOWN',\n",
       "  'Probable Cause',\n",
       "  '09/19/1996',\n",
       "  '']]"
      ]
     },
     "execution_count": 3,
     "metadata": {},
     "output_type": "execute_result"
    }
   ],
   "source": [
    "# performing linear search (O(n)) for searching 'LAX94LA336'\n",
    "\n",
    "lax_code = []\n",
    "for line in aviation_list:\n",
    "    if 'LAX94LA336' in line:\n",
    "        lax_code.append(line)\n",
    "        \n",
    "lax_code"
   ]
  },
  {
   "cell_type": "code",
   "execution_count": 4,
   "metadata": {},
   "outputs": [
    {
     "data": {
      "text/plain": [
       "[['20001212X20184',\n",
       "  'Accident',\n",
       "  'ANC00FA018',\n",
       "  '12/07/1999',\n",
       "  'BETHEL, AK',\n",
       "  'United States',\n",
       "  '',\n",
       "  '',\n",
       "  '',\n",
       "  '',\n",
       "  'Fatal(6)',\n",
       "  'Destroyed',\n",
       "  '',\n",
       "  'N1747U',\n",
       "  'Cessna',\n",
       "  '207',\n",
       "  'No',\n",
       "  '1',\n",
       "  'Reciprocating',\n",
       "  '',\n",
       "  'SCHD',\n",
       "  'Unknown',\n",
       "  'GRANT AVIATION, INC.',\n",
       "  '6',\n",
       "  '0',\n",
       "  '0',\n",
       "  '0',\n",
       "  'IMC',\n",
       "  'CRUISE',\n",
       "  'Probable Cause',\n",
       "  '04/18/2001',\n",
       "  ''],\n",
       " ['20001212X20436',\n",
       "  'Accident',\n",
       "  'ANC00FA024',\n",
       "  '02/05/2000',\n",
       "  'ILIAMNA, AK',\n",
       "  'United States',\n",
       "  '',\n",
       "  '',\n",
       "  '',\n",
       "  '',\n",
       "  'Fatal(6)',\n",
       "  'Destroyed',\n",
       "  '',\n",
       "  'N756HG',\n",
       "  'Cessna',\n",
       "  'U206G',\n",
       "  'No',\n",
       "  '1',\n",
       "  'Reciprocating',\n",
       "  '',\n",
       "  'NSCH',\n",
       "  'Unknown',\n",
       "  '',\n",
       "  '6',\n",
       "  '0',\n",
       "  '0',\n",
       "  '0',\n",
       "  'UNK',\n",
       "  'CRUISE',\n",
       "  'Probable Cause',\n",
       "  '07/17/2001',\n",
       "  '']]"
      ]
     },
     "execution_count": 4,
     "metadata": {},
     "output_type": "execute_result"
    }
   ],
   "source": [
    "# performing binary search (O(log(n))) for searching 'LAX94LA336'\n",
    "\n",
    "import bisect\n",
    "sorted_aviation_list = sorted(aviation_list, key=lambda row: row[2])\n",
    "sorted_aviation_list[:2]"
   ]
  },
  {
   "cell_type": "code",
   "execution_count": 5,
   "metadata": {},
   "outputs": [
    {
     "data": {
      "text/plain": [
       "['ANC00FA018',\n",
       " 'ANC00FA024',\n",
       " 'ANC00FA052',\n",
       " 'ANC00FA056',\n",
       " 'ANC00FA076',\n",
       " 'ANC00FA081',\n",
       " 'ANC00FA082',\n",
       " 'ANC00FA093',\n",
       " 'ANC00FA110',\n",
       " 'ANC00FA128']"
      ]
     },
     "execution_count": 5,
     "metadata": {},
     "output_type": "execute_result"
    }
   ],
   "source": [
    "sorted_accident_numbers = [row[2] for row in sorted_aviation_list]\n",
    "\n",
    "sorted_accident_numbers[:10]"
   ]
  },
  {
   "cell_type": "code",
   "execution_count": 6,
   "metadata": {},
   "outputs": [
    {
     "data": {
      "text/plain": [
       "['20001218X45447',\n",
       " 'Accident',\n",
       " 'LAX94LA336',\n",
       " '07/19/1962',\n",
       " 'BRIDGEPORT, CA',\n",
       " 'United States',\n",
       " '',\n",
       " '',\n",
       " '',\n",
       " '',\n",
       " 'Fatal(4)',\n",
       " 'Destroyed',\n",
       " '',\n",
       " 'N5069P',\n",
       " 'PIPER',\n",
       " 'PA24-180',\n",
       " 'No',\n",
       " '1',\n",
       " 'Reciprocating',\n",
       " '',\n",
       " '',\n",
       " 'Personal',\n",
       " '',\n",
       " '4',\n",
       " '0',\n",
       " '0',\n",
       " '0',\n",
       " 'UNK',\n",
       " 'UNKNOWN',\n",
       " 'Probable Cause',\n",
       " '09/19/1996',\n",
       " '']"
      ]
     },
     "execution_count": 6,
     "metadata": {},
     "output_type": "execute_result"
    }
   ],
   "source": [
    "index_lax = bisect.bisect_left(sorted_accident_numbers, 'LAX94LA336')\n",
    "\n",
    "sorted_aviation_list[index_lax]"
   ]
  },
  {
   "cell_type": "code",
   "execution_count": 7,
   "metadata": {},
   "outputs": [
    {
     "data": {
      "text/plain": [
       "[{'Event Id': '20150908X74637',\n",
       "  'Investigation Type': 'Accident',\n",
       "  'Accident Number': 'CEN15LA402',\n",
       "  'Event Date': '09/08/2015',\n",
       "  'Location': 'Freeport, IL',\n",
       "  'Country': 'United States',\n",
       "  'Latitude': '42.246111',\n",
       "  'Longitude': '-89.581945',\n",
       "  'Airport Code': 'KFEP',\n",
       "  'Airport Name': 'albertus Airport',\n",
       "  'Injury Severity': 'Non-Fatal',\n",
       "  'Aircraft Damage': 'Substantial',\n",
       "  'Aircraft Category': 'Unknown',\n",
       "  'Registration Number': 'N24TL',\n",
       "  'Make': 'CLARKE REGINALD W',\n",
       "  'Model': 'DRAGONFLY MK',\n",
       "  'Amateur Built': '',\n",
       "  'Number of Engines': '',\n",
       "  'Engine Type': '',\n",
       "  'FAR Description': 'Part 91: General Aviation',\n",
       "  'Schedule': '',\n",
       "  'Purpose of Flight': 'Personal',\n",
       "  'Air Carrier': '',\n",
       "  'Total Fatal Injuries': '',\n",
       "  'Total Serious Injuries': '1',\n",
       "  'Total Minor Injuries': '',\n",
       "  'Total Uninjured': '',\n",
       "  'Weather Condition': 'VMC',\n",
       "  'Broad Phase of Flight': 'TAKEOFF',\n",
       "  'Report Status': 'Preliminary',\n",
       "  'Publication Date': '09/09/2015',\n",
       "  '\\n': '\\n'},\n",
       " {'Event Id': '20150906X32704',\n",
       "  'Investigation Type': 'Accident',\n",
       "  'Accident Number': 'ERA15LA339',\n",
       "  'Event Date': '09/05/2015',\n",
       "  'Location': 'Laconia, NH',\n",
       "  'Country': 'United States',\n",
       "  'Latitude': '43.606389',\n",
       "  'Longitude': '-71.452778',\n",
       "  'Airport Code': 'LCI',\n",
       "  'Airport Name': 'Laconia Municipal Airport',\n",
       "  'Injury Severity': 'Fatal(1)',\n",
       "  'Aircraft Damage': 'Substantial',\n",
       "  'Aircraft Category': 'Weight-Shift',\n",
       "  'Registration Number': 'N2264X',\n",
       "  'Make': 'EVOLUTION AIRCRAFT INC',\n",
       "  'Model': 'REVO',\n",
       "  'Amateur Built': 'No',\n",
       "  'Number of Engines': '1',\n",
       "  'Engine Type': 'Reciprocating',\n",
       "  'FAR Description': 'Part 91: General Aviation',\n",
       "  'Schedule': '',\n",
       "  'Purpose of Flight': 'Personal',\n",
       "  'Air Carrier': '',\n",
       "  'Total Fatal Injuries': '1',\n",
       "  'Total Serious Injuries': '',\n",
       "  'Total Minor Injuries': '',\n",
       "  'Total Uninjured': '',\n",
       "  'Weather Condition': 'VMC',\n",
       "  'Broad Phase of Flight': 'MANEUVERING',\n",
       "  'Report Status': 'Preliminary',\n",
       "  'Publication Date': '09/10/2015',\n",
       "  '\\n': '\\n'}]"
      ]
     },
     "execution_count": 7,
     "metadata": {},
     "output_type": "execute_result"
    }
   ],
   "source": [
    "# storing data as a list of dictionaries\n",
    "aviation_dict_list = []\n",
    "keys = aviation_data[0].split(' | ')\n",
    "for line in aviation_data[1:]:\n",
    "    splitted_dict_lines = dict(zip(keys, line.split(' | ')))\n",
    "    aviation_dict_list.append(splitted_dict_lines)\n",
    "    \n",
    "aviation_dict_list[:2]"
   ]
  },
  {
   "cell_type": "code",
   "execution_count": 8,
   "metadata": {},
   "outputs": [
    {
     "data": {
      "text/plain": [
       "[{'Event Id': '20001218X45447',\n",
       "  'Investigation Type': 'Accident',\n",
       "  'Accident Number': 'LAX94LA336',\n",
       "  'Event Date': '07/19/1962',\n",
       "  'Location': 'BRIDGEPORT, CA',\n",
       "  'Country': 'United States',\n",
       "  'Latitude': '',\n",
       "  'Longitude': '',\n",
       "  'Airport Code': '',\n",
       "  'Airport Name': '',\n",
       "  'Injury Severity': 'Fatal(4)',\n",
       "  'Aircraft Damage': 'Destroyed',\n",
       "  'Aircraft Category': '',\n",
       "  'Registration Number': 'N5069P',\n",
       "  'Make': 'PIPER',\n",
       "  'Model': 'PA24-180',\n",
       "  'Amateur Built': 'No',\n",
       "  'Number of Engines': '1',\n",
       "  'Engine Type': 'Reciprocating',\n",
       "  'FAR Description': '',\n",
       "  'Schedule': '',\n",
       "  'Purpose of Flight': 'Personal',\n",
       "  'Air Carrier': '',\n",
       "  'Total Fatal Injuries': '4',\n",
       "  'Total Serious Injuries': '0',\n",
       "  'Total Minor Injuries': '0',\n",
       "  'Total Uninjured': '0',\n",
       "  'Weather Condition': 'UNK',\n",
       "  'Broad Phase of Flight': 'UNKNOWN',\n",
       "  'Report Status': 'Probable Cause',\n",
       "  'Publication Date': '09/19/1996',\n",
       "  '\\n': '\\n'}]"
      ]
     },
     "execution_count": 8,
     "metadata": {},
     "output_type": "execute_result"
    }
   ],
   "source": [
    "# search accident number 'LAX94LA336' in dictionary\n",
    "lax_dict = []\n",
    "for dict_ in aviation_dict_list:\n",
    "    if 'LAX94LA336' in dict_.values():\n",
    "        lax_dict.append(dict_)\n",
    "        \n",
    "lax_dict"
   ]
  },
  {
   "cell_type": "markdown",
   "metadata": {},
   "source": [
    "Searching through dictionaries was easier, though!"
   ]
  },
  {
   "cell_type": "code",
   "execution_count": 9,
   "metadata": {},
   "outputs": [
    {
     "data": {
      "text/plain": [
       "Counter({'IL': 1874,\n",
       "         'NH': 326,\n",
       "         'SD': 393,\n",
       "         'CA': 8029,\n",
       "         'NJ': 1067,\n",
       "         'TN': 951,\n",
       "         'NC': 1433,\n",
       "         'ID': 1228,\n",
       "         'TX': 5112,\n",
       "         'CT': 445,\n",
       "         'PA': 1571,\n",
       "         'MO': 1404,\n",
       "         'NV': 1054,\n",
       "         'LA': 1074,\n",
       "         'NY': 1715,\n",
       "         'WY': 663,\n",
       "         'AZ': 2502,\n",
       "         'AL': 1032,\n",
       "         'ME': 455,\n",
       "         'MI': 1863,\n",
       "         'FL': 5117,\n",
       "         'AR': 1389,\n",
       "         'MN': 1317,\n",
       "         'OK': 1110,\n",
       "         'OH': 1615,\n",
       "         'AK': 5049,\n",
       "         'ND': 514,\n",
       "         'OR': 1559,\n",
       "         'MT': 936,\n",
       "         'IA': 731,\n",
       "         'VA': 1108,\n",
       "         'IN': 1169,\n",
       "         'KY': 577,\n",
       "         'NM': 1219,\n",
       "         'WA': 2353,\n",
       "         'NE': 642,\n",
       "         'WI': 1388,\n",
       "         'UT': 1162,\n",
       "         'KS': 980,\n",
       "         'GA': 1746,\n",
       "         'CO': 2458,\n",
       "         'MA': 896,\n",
       "         'MS': 745,\n",
       "         'SC': 849,\n",
       "         'FN': 5,\n",
       "         'WV': 362,\n",
       "         'PR': 88,\n",
       "         'MD': 720,\n",
       "         'GU': 14,\n",
       "         'HI': 411,\n",
       "         'GM': 62,\n",
       "         'VT': 212,\n",
       "         'RI': 147,\n",
       "         'PO': 8,\n",
       "         'ON': 1,\n",
       "         'AS': 1,\n",
       "         'DE': 100,\n",
       "         'MP': 2,\n",
       "         'VI': 12,\n",
       "         'AO': 7,\n",
       "         'DC': 43,\n",
       "         'UN': 5,\n",
       "         'IS': 1})"
      ]
     },
     "execution_count": 9,
     "metadata": {},
     "output_type": "execute_result"
    }
   ],
   "source": [
    "# counting accidents that occured in each U.S. state\n",
    "\n",
    "from collections import Counter\n",
    "\n",
    "states = []\n",
    "for dict_ in aviation_dict_list:\n",
    "    # parsing the state by splitting the 'Location' field and extracting state\n",
    "    if dict_['Country'] == 'United States' and ',' in dict_['Location']:\n",
    "        state = dict_['Location'].split(',')[1].strip(' ')\n",
    "        if len(state) == 2:\n",
    "            states.append(state)\n",
    "            \n",
    "states_accidents = Counter(states)\n",
    "states_accidents"
   ]
  },
  {
   "cell_type": "code",
   "execution_count": 10,
   "metadata": {},
   "outputs": [
    {
     "data": {
      "text/plain": [
       "[('CA', 8029), ('FL', 5117), ('TX', 5112), ('AK', 5049), ('AZ', 2502)]"
      ]
     },
     "execution_count": 10,
     "metadata": {},
     "output_type": "execute_result"
    }
   ],
   "source": [
    "# states with the most accidents\n",
    "states_accidents.most_common(5)"
   ]
  },
  {
   "cell_type": "code",
   "execution_count": 11,
   "metadata": {
    "scrolled": true
   },
   "outputs": [
    {
     "data": {
      "text/plain": [
       "[('July 1982', 433), ('August 1983', 421), ('July 1983', 413)]"
      ]
     },
     "execution_count": 11,
     "metadata": {},
     "output_type": "execute_result"
    }
   ],
   "source": [
    "def worst_month_accidents(data):\n",
    "    months = []\n",
    "    change_month = {\"01\":\"January\",\n",
    "                    \"02\":\"February\",\n",
    "                    \"03\":\"March\",\n",
    "                    \"04\":\"April\",\n",
    "                    \"05\":\"May\",\n",
    "                    \"06\":\"June\",\n",
    "                    \"07\":\"July\",\n",
    "                    \"08\":\"August\",\n",
    "                    \"09\":\"September\",\n",
    "                    \"10\":\"October\",\n",
    "                    \"11\":\"November\",\n",
    "                    \"12\":\"December\"}\n",
    "    \n",
    "    for x in range(0, len(data)):\n",
    "        month = data[x]['Event Date'][0:2]\n",
    "        try:\n",
    "            month = change_month[month]\n",
    "        except KeyError:\n",
    "            month = data[x]['Event Id'][4:6]\n",
    "            month = change_month[month]\n",
    "        if data[x]['Event Date'] != '':\n",
    "            year = data[x]['Event Date'][-4:]\n",
    "        else:\n",
    "            year = data[x]['Event Id'][0:4]\n",
    "        months.append(month + ' ' + year)\n",
    "        \n",
    "    worst_months = Counter(months)\n",
    "    return worst_months, worst_months.most_common(3)\n",
    "\n",
    "month_count_accidents, worst_3_months_acc = worst_month_accidents(aviation_dict_list)\n",
    "\n",
    "worst_3_months_acc"
   ]
  },
  {
   "cell_type": "markdown",
   "metadata": {},
   "source": [
    "The months with the most accidents are in the dead of summer and come at the beginning of our dataset. Next we will see if these months are also the ones that had the most injuries."
   ]
  },
  {
   "cell_type": "code",
   "execution_count": 12,
   "metadata": {},
   "outputs": [
    {
     "data": {
      "text/plain": [
       "[('January 2007', 102), ('July 2002', 71), ('June 2010', 5)]"
      ]
     },
     "execution_count": 12,
     "metadata": {},
     "output_type": "execute_result"
    }
   ],
   "source": [
    "def worst_month_injuries(data):\n",
    "    injuries_by_month = {}\n",
    "    change_month = {\"01\":\"January\",\n",
    "                    \"02\":\"February\",\n",
    "                    \"03\":\"March\",\n",
    "                    \"04\":\"April\",\n",
    "                    \"05\":\"May\",\n",
    "                    \"06\":\"June\",\n",
    "                    \"07\":\"July\",\n",
    "                    \"08\":\"August\",\n",
    "                    \"09\":\"September\",\n",
    "                    \"10\":\"October\",\n",
    "                    \"11\":\"November\",\n",
    "                    \"12\":\"December\"}\n",
    "    for x in range(0, len(data)):\n",
    "        injuries = 0\n",
    "        month = data[x]['Event Date'][0:2]\n",
    "        try: \n",
    "            month = change_month[month]\n",
    "        except KeyError:\n",
    "            month = data[x]['Event Id'][4:6]\n",
    "            month = change_month[month]\n",
    "        if data[x]['Event Date'] != '':\n",
    "            year = data[x]['Event Date'][-4:]\n",
    "        else:\n",
    "            year = data[x]['Event Id'][0:4]\n",
    "        month = month + ' ' + year\n",
    "        fatal = data[x]['Total Fatal Injuries']\n",
    "        serious = data[x]['Total Serious Injuries']\n",
    "        # Skip the blanks        \n",
    "        if fatal:\n",
    "            injuries += int(fatal)\n",
    "        if serious:\n",
    "            injuries += int(serious)\n",
    "        injuries_by_month[month] = injuries\n",
    "        injuries_by_month = Counter(injuries_by_month)        \n",
    "        \n",
    "    return injuries_by_month, injuries_by_month.most_common(3)\n",
    "           \n",
    "month_count_injuries, worst_3_months_inj  = worst_month_injuries(aviation_dict_list)\n",
    "\n",
    "worst_3_months_inj"
   ]
  },
  {
   "cell_type": "markdown",
   "metadata": {},
   "source": [
    "Interestingly, the 3 worst months for injuries are not the same as the 3 worst months for accidents!"
   ]
  }
 ],
 "metadata": {
  "kernelspec": {
   "display_name": "Python 3",
   "language": "python",
   "name": "python3"
  },
  "language_info": {
   "codemirror_mode": {
    "name": "ipython",
    "version": 3
   },
   "file_extension": ".py",
   "mimetype": "text/x-python",
   "name": "python",
   "nbconvert_exporter": "python",
   "pygments_lexer": "ipython3",
   "version": "3.7.7"
  }
 },
 "nbformat": 4,
 "nbformat_minor": 4
}
